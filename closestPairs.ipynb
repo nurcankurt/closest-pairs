{
 "cells": [
  {
   "cell_type": "code",
   "execution_count": 31,
   "metadata": {},
   "outputs": [],
   "source": [
    "import re\n",
    "import matplotlib.pyplot as plt\n",
    "import math\n",
    "import sys\n",
    "import turtle"
   ]
  },
  {
   "cell_type": "code",
   "execution_count": 32,
   "metadata": {},
   "outputs": [],
   "source": [
    "txt_file = open(\"points.txt\", \"r\")\n",
    "content = txt_file.read()\n",
    "txt_file.close()"
   ]
  },
  {
   "cell_type": "code",
   "execution_count": 33,
   "metadata": {},
   "outputs": [],
   "source": [
    "number_of_points = content.split(\"\\n\")[0]\n",
    "number_of_points = int(number_of_points)"
   ]
  },
  {
   "cell_type": "code",
   "execution_count": 34,
   "metadata": {},
   "outputs": [
    {
     "name": "stdout",
     "output_type": "stream",
     "text": [
      "[[5, 6], [-2, -9], [-5, 10], [87, 1], [50, 60], [45, 60], [28, -26], [1, 2], [17, 7], [-56, 54]]\n"
     ]
    }
   ],
   "source": [
    "points = list()\n",
    "pattern= \"(\\()([-+]?\\d*)(,)([-+]?\\d*)(\\))\"\n",
    "for item in re.finditer(pattern,content):\n",
    "   # print(item.groups())\n",
    "    point = [int(item.group(2)),int(item.group(4))]\n",
    "    points.append(point)\n",
    "    #print(item.group(1))\n",
    "print(points)"
   ]
  },
  {
   "cell_type": "code",
   "execution_count": 35,
   "metadata": {},
   "outputs": [
    {
     "data": {
      "image/png": "[encoded data removed]",
      "text/plain": [
       "<Figure size 432x288 with 1 Axes>"
      ]
     },
     "metadata": {
      "needs_background": "light"
     },
     "output_type": "display_data"
    }
   ],
   "source": [
    "for element in points:\n",
    "    plt.scatter(element[0],element[1])\n",
    "plt.show()"
   ]
  },
  {
   "cell_type": "code",
   "execution_count": 36,
   "metadata": {},
   "outputs": [],
   "source": [
    "min_dist=sys.maxsize"
   ]
  },
  {
   "cell_type": "code",
   "execution_count": 37,
   "metadata": {},
   "outputs": [],
   "source": [
    "t = turtle.Turtle()\n",
    "screen=turtle.Screen() \n",
    "t.speed(1)"
   ]
  },
  {
   "cell_type": "code",
   "execution_count": 38,
   "metadata": {},
   "outputs": [],
   "source": [
    "for i in range(number_of_points):\n",
    "    t.penup()\n",
    "    t.setpos(points[i][0],points[i][1])\n",
    "    t.pendown()\n",
    "    t.dot()\n",
    "    for j in range(i+1,number_of_points):\n",
    "        temp = math.dist(points[i],points[j])\n",
    "        t.goto(points[j][0],points[j][1])\n",
    "        t.dot()\n",
    "        if(temp < min_dist):\n",
    "            min_dist=temp\n",
    "        \n",
    "        t.setpos(points[i][0],points[i][1])\n",
    "    t.clear()\n",
    "min_dist  \n",
    "turtle.mainloop()          "
   ]
  },
  {
   "cell_type": "code",
   "execution_count": 39,
   "metadata": {},
   "outputs": [],
   "source": [
    "x_sorted=sorted(points,key=lambda p : p[0])\n"
   ]
  },
  {
   "cell_type": "code",
   "execution_count": 40,
   "metadata": {},
   "outputs": [],
   "source": [
    "def closestPairDC(X):\n",
    "    n = len(X)\n",
    "    if(n==2):\n",
    "        return math.dist(X[0],X[1])\n",
    "    mid=X[n//2]\n",
    "    dL=closestPairDC(X[:n//2+1])\n",
    "    dR= closestPairDC(X[n//2: ]) \n",
    "    d=min(dL,dR)\n",
    "\n",
    "    middle = [p for p in X if mid[0]-d < p[0] <mid[0]+d]\n",
    "    middle = sorted(middle,key= lambda p : p[1])\n",
    "    for i in range(len(middle)):\n",
    "        for j in range(i+1,min(i+7,len(middle))):\n",
    "            d=min(d,math.dist(middle[i],middle[j]))\n",
    "    return d\n",
    "\n"
   ]
  },
  {
   "cell_type": "code",
   "execution_count": 41,
   "metadata": {},
   "outputs": [
    {
     "name": "stdout",
     "output_type": "stream",
     "text": [
      "5.0\n"
     ]
    }
   ],
   "source": [
    "print(closestPairDC(points))"
   ]
  }
 ],
 "metadata": {
  "interpreter": {
   "hash": "b3ba2566441a7c06988d0923437866b63cedc61552a5af99d1f4fb67d367b25f"
  },
  "kernelspec": {
   "display_name": "Python 3.9.7 ('base')",
   "language": "python",
   "name": "python3"
  },
  "language_info": {
   "codemirror_mode": {
    "name": "ipython",
    "version": 3
   },
   "file_extension": ".py",
   "mimetype": "text/x-python",
   "name": "python",
   "nbconvert_exporter": "python",
   "pygments_lexer": "ipython3",
   "version": "3.10.4"
  },
  "orig_nbformat": 4
 },
 "nbformat": 4,
 "nbformat_minor": 2
}
